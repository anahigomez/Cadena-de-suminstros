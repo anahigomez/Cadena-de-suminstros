{
 "cells": [
  {
   "cell_type": "code",
   "execution_count": 51,
   "metadata": {
    "colab": {},
    "colab_type": "code",
    "id": "ddxLFi2NGhy_",
    "scrolled": true
   },
   "outputs": [],
   "source": [
    "import random\n",
    "import math\n",
    "import simpy\n",
    "import matplotlib.pyplot as plt\n",
    "%matplotlib inline"
   ]
  },
  {
   "cell_type": "code",
   "execution_count": 52,
   "metadata": {},
   "outputs": [],
   "source": [
    "# Atencion en el Banco Union\n",
    "SEMILLA = 30\n",
    "NUM_CAJEROS = 5\n",
    "TIEMPO_ATENCION_MIN = 10\n",
    "TIEMPO_ATENCION_MAX = 38\n",
    "T_LLEGADAS = 20\n",
    "TIEMPO_SIMULACION = 120\n",
    "TOT_CLIENTES = 13\n",
    " \n",
    "te  = 0.0 # tiempo de espera total\n",
    "dt  = 0.0 # duracion de servicio total\n",
    "fin = 0.0 # minuto en el que finaliza"
   ]
  },
  {
   "cell_type": "code",
   "execution_count": 56,
   "metadata": {},
   "outputs": [],
   "source": [
    "def Atencion(cliente):\n",
    "    global dt  #Accedemos a la variable dt declarada anteriormente\n",
    "    R = random.random()  # numero aleatorio y lo guarda en R\n",
    "    tiempo = TIEMPO_ATENCION_MAX - TIEMPO_ATENCION_MIN  \n",
    "    tiempo_aten = TIEMPO_CORTE_MIN + (tiempo*R) # Distribucion uniforme\n",
    "    yield env.timeout(tiempo_aten) # deja correr el tiempo n minutos\n",
    "    print(\"3er paso: Atencion listo a %s en %.2f minutos\" % (cliente,tiempo_aten))\n",
    "    dt = dt + tiempo_aten # Acumula los tiempos de uso de la i\n",
    "\n",
    "\n",
    "def cliente (env, nombre, personal ):\n",
    "    global te\n",
    "    global fin\n",
    "    llega = env.now # Guarda el minuto de llegada del cliente\n",
    "    print (\"1ro paso: %s llego al Banco en el minuto %.2f\" % (nombre, llega))\n",
    "    with personal.request() as request: # Espera su turno\n",
    "        yield request # Obtiene turno\n",
    "        pasa = env.now # Guarda el minuto cuado comienza a ser atendido\n",
    "        espera = pasa - llega # Calcula el tiempo que espero\n",
    "        te = te + espera # Acumula los tiempos de espera\n",
    "        print (\"2do paso: %s pasa con el cajero en el minuto %.2f habiendo esperado %.2f\" % (nombre, pasa, espera))\n",
    "        yield env.process(Atencion(nombre)) # Invoca al proceso Atencion\n",
    "        deja = env.now #Guarda el minuto en que termina el proceso Atencion \n",
    "        print (\"4to paso: %s deja el Banco en el minuto %.2f\" % (nombre, deja))\n",
    "        fin = deja # Conserva globalmente el ultimo minuto de la simulacion\n",
    "\n",
    "def principal (env, personal):\n",
    "    llegada = 0\n",
    "    i = 0\n",
    "    for i in range(TOT_CLIENTES): # Para n clientes\n",
    "        R = random.random()\n",
    "        llegada = -T_LLEGADAS * math.log(R) # Distribucion exponencial\n",
    "        yield env.timeout(llegada)  # Deja transcurrir un tiempo entre uno y otro\n",
    "        i += 1\n",
    "        env.process(cliente(env, 'Cliente %d' % i, personal)) "
   ]
  },
  {
   "cell_type": "code",
   "execution_count": 57,
   "metadata": {},
   "outputs": [
    {
     "name": "stdout",
     "output_type": "stream",
     "text": [
      "============= SIMULACION COLA EN EL BANCO=============\n",
      "1ro paso: Cliente 1 llego al Banco en el minuto 12.36\n",
      "2do paso: Cliente 1 pasa con el cajero en el minuto 12.36 habiendo esperado 0.00\n",
      "3er paso: Atencion listo a Cliente 1 en 20.84 minutos\n",
      "4to paso: Cliente 1 deja el Banco en el minuto 33.20\n",
      "1ro paso: Cliente 2 llego al Banco en el minuto 37.17\n",
      "2do paso: Cliente 2 pasa con el cajero en el minuto 37.17 habiendo esperado 0.00\n",
      "1ro paso: Cliente 3 llego al Banco en el minuto 45.67\n",
      "3er paso: Atencion listo a Cliente 2 en 25.88 minutos\n",
      "4to paso: Cliente 2 deja el Banco en el minuto 63.05\n",
      "2do paso: Cliente 3 pasa con el cajero en el minuto 63.05 habiendo esperado 17.38\n",
      "1ro paso: Cliente 4 llego al Banco en el minuto 72.83\n",
      "1ro paso: Cliente 5 llego al Banco en el minuto 81.70\n",
      "1ro paso: Cliente 6 llego al Banco en el minuto 81.93\n",
      "3er paso: Atencion listo a Cliente 3 en 31.12 minutos\n",
      "4to paso: Cliente 3 deja el Banco en el minuto 94.17\n",
      "2do paso: Cliente 4 pasa con el cajero en el minuto 94.17 habiendo esperado 21.35\n",
      "1ro paso: Cliente 7 llego al Banco en el minuto 97.39\n",
      "1ro paso: Cliente 8 llego al Banco en el minuto 97.54\n",
      "1ro paso: Cliente 9 llego al Banco en el minuto 125.86\n",
      "3er paso: Atencion listo a Cliente 4 en 47.82 minutos\n",
      "4to paso: Cliente 4 deja el Banco en el minuto 141.99\n",
      "2do paso: Cliente 5 pasa con el cajero en el minuto 141.99 habiendo esperado 60.29\n",
      "3er paso: Atencion listo a Cliente 5 en 24.48 minutos\n",
      "4to paso: Cliente 5 deja el Banco en el minuto 166.47\n",
      "2do paso: Cliente 6 pasa con el cajero en el minuto 166.47 habiendo esperado 84.54\n",
      "1ro paso: Cliente 10 llego al Banco en el minuto 178.31\n",
      "1ro paso: Cliente 11 llego al Banco en el minuto 188.54\n",
      "1ro paso: Cliente 12 llego al Banco en el minuto 190.26\n",
      "1ro paso: Cliente 13 llego al Banco en el minuto 190.82\n",
      "3er paso: Atencion listo a Cliente 6 en 43.57 minutos\n",
      "4to paso: Cliente 6 deja el Banco en el minuto 210.04\n",
      "2do paso: Cliente 7 pasa con el cajero en el minuto 210.04 habiendo esperado 112.65\n",
      "3er paso: Atencion listo a Cliente 7 en 38.32 minutos\n",
      "4to paso: Cliente 7 deja el Banco en el minuto 248.36\n",
      "2do paso: Cliente 8 pasa con el cajero en el minuto 248.36 habiendo esperado 150.82\n",
      "3er paso: Atencion listo a Cliente 8 en 34.99 minutos\n",
      "4to paso: Cliente 8 deja el Banco en el minuto 283.35\n",
      "2do paso: Cliente 9 pasa con el cajero en el minuto 283.35 habiendo esperado 157.49\n",
      "3er paso: Atencion listo a Cliente 9 en 21.89 minutos\n",
      "4to paso: Cliente 9 deja el Banco en el minuto 305.24\n",
      "2do paso: Cliente 10 pasa con el cajero en el minuto 305.24 habiendo esperado 126.94\n",
      "3er paso: Atencion listo a Cliente 10 en 20.66 minutos\n",
      "4to paso: Cliente 10 deja el Banco en el minuto 325.90\n",
      "2do paso: Cliente 11 pasa con el cajero en el minuto 325.90 habiendo esperado 137.37\n",
      "3er paso: Atencion listo a Cliente 11 en 42.55 minutos\n",
      "4to paso: Cliente 11 deja el Banco en el minuto 368.45\n",
      "2do paso: Cliente 12 pasa con el cajero en el minuto 368.45 habiendo esperado 178.19\n",
      "3er paso: Atencion listo a Cliente 12 en 38.82 minutos\n",
      "4to paso: Cliente 12 deja el Banco en el minuto 407.27\n",
      "2do paso: Cliente 13 pasa con el cajero en el minuto 407.27 habiendo esperado 216.44\n",
      "3er paso: Atencion listo a Cliente 13 en 41.36 minutos\n",
      "4to paso: Cliente 13 deja el Banco en el minuto 448.63\n"
     ]
    }
   ],
   "source": [
    "print (\"============= SIMULACION COLA EN EL BANCO=============\")\n",
    "random.seed (SEMILLA)  # Cualquier valor\n",
    "env = simpy.Environment() # Crea el objeto entorno de simulacion\n",
    "personal = simpy.Resource(env, NUM_PELUQUEROS) #Crea los recursos \n",
    "env.process(principal(env, personal)) #Invoca el proceso princial\n",
    "env.run() #Inicia la simulacion"
   ]
  },
  {
   "cell_type": "code",
   "execution_count": 59,
   "metadata": {},
   "outputs": [
    {
     "name": "stdout",
     "output_type": "stream",
     "text": [
      "\n",
      "---------------------------------------------------------------------\n",
      "\n",
      "INDICADORES: \n",
      "\n",
      "Longitud promedio de la cola: 8.45\n",
      "Tiempo de espera promedio = 291.56\n",
      "Uso promedio de la instalacion = 0.58\n",
      "\n",
      "---------------------------------------------------------------------\n"
     ]
    }
   ],
   "source": [
    "print (\"\\n---------------------------------------------------------------------\")\n",
    "print (\"\\nINDICADORES: \")\n",
    "lpc = te / fin\n",
    "print (\"\\nLongitud promedio de la cola: %.2f\" % lpc)\n",
    "tep = te / TOT_CLIENTES\n",
    "print (\"Tiempo de espera promedio = %.2f\" % tep)\n",
    "upi = (dt / fin) / NUM_CAJEROS\n",
    "print (\"Uso promedio de la instalacion = %.2f\" % upi)\n",
    "print (\"\\n---------------------------------------------------------------------\")\n",
    " "
   ]
  }
 ],
 "metadata": {
  "colab": {
   "collapsed_sections": [],
   "name": "3 ProyectoFinalVisualizacion.ipynb",
   "provenance": []
  },
  "kernelspec": {
   "display_name": "Python 3",
   "language": "python",
   "name": "python3"
  },
  "language_info": {
   "codemirror_mode": {
    "name": "ipython",
    "version": 3
   },
   "file_extension": ".py",
   "mimetype": "text/x-python",
   "name": "python",
   "nbconvert_exporter": "python",
   "pygments_lexer": "ipython3",
   "version": "3.7.3"
  }
 },
 "nbformat": 4,
 "nbformat_minor": 1
}
