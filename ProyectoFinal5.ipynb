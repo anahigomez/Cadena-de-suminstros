{
 "cells": [
  {
   "cell_type": "code",
   "execution_count": 1,
   "metadata": {
    "colab": {},
    "colab_type": "code",
    "id": "ddxLFi2NGhy_",
    "scrolled": true
   },
   "outputs": [],
   "source": [
    "import pandas as pd\n",
    "import matplotlib.pyplot as plt\n",
    "import seaborn as sns\n",
    "import numpy as np\n",
    "import warnings\n",
    "from pyspc import *\n",
    "warnings.filterwarnings('ignore') # Para evitar los molestos avisos.\n",
    "%matplotlib inline"
   ]
  },
  {
   "cell_type": "code",
   "execution_count": 2,
   "metadata": {},
   "outputs": [],
   "source": [
    "data = pd.read_csv(\"../Datos/candy_productions.csv\")\n",
    "# Producción de dulces en los Estados Unidos por fecha gestion y mes "
   ]
  },
  {
   "cell_type": "code",
   "execution_count": 3,
   "metadata": {},
   "outputs": [
    {
     "data": {
      "text/plain": [
       "(332, 6)"
      ]
     },
     "execution_count": 3,
     "metadata": {},
     "output_type": "execute_result"
    }
   ],
   "source": [
    "data.shape"
   ]
  },
  {
   "cell_type": "code",
   "execution_count": 4,
   "metadata": {},
   "outputs": [
    {
     "data": {
      "text/html": [
       "<div>\n",
       "<style scoped>\n",
       "    .dataframe tbody tr th:only-of-type {\n",
       "        vertical-align: middle;\n",
       "    }\n",
       "\n",
       "    .dataframe tbody tr th {\n",
       "        vertical-align: top;\n",
       "    }\n",
       "\n",
       "    .dataframe thead th {\n",
       "        text-align: right;\n",
       "    }\n",
       "</style>\n",
       "<table border=\"1\" class=\"dataframe\">\n",
       "  <thead>\n",
       "    <tr style=\"text-align: right;\">\n",
       "      <th></th>\n",
       "      <th>date</th>\n",
       "      <th>year</th>\n",
       "      <th>month</th>\n",
       "      <th>production1</th>\n",
       "      <th>production2</th>\n",
       "      <th>production3</th>\n",
       "    </tr>\n",
       "  </thead>\n",
       "  <tbody>\n",
       "    <tr>\n",
       "      <th>0</th>\n",
       "      <td>1990-01-01</td>\n",
       "      <td>1990</td>\n",
       "      <td>1</td>\n",
       "      <td>99.9894</td>\n",
       "      <td>75.7999</td>\n",
       "      <td>142.7999</td>\n",
       "    </tr>\n",
       "    <tr>\n",
       "      <th>1</th>\n",
       "      <td>1990-02-01</td>\n",
       "      <td>1990</td>\n",
       "      <td>2</td>\n",
       "      <td>101.2116</td>\n",
       "      <td>73.7547</td>\n",
       "      <td>117.7547</td>\n",
       "    </tr>\n",
       "    <tr>\n",
       "      <th>2</th>\n",
       "      <td>1990-03-01</td>\n",
       "      <td>1990</td>\n",
       "      <td>3</td>\n",
       "      <td>94.8477</td>\n",
       "      <td>93.1582</td>\n",
       "      <td>108.1582</td>\n",
       "    </tr>\n",
       "    <tr>\n",
       "      <th>3</th>\n",
       "      <td>1990-04-01</td>\n",
       "      <td>1990</td>\n",
       "      <td>4</td>\n",
       "      <td>88.4239</td>\n",
       "      <td>102.2382</td>\n",
       "      <td>155.2382</td>\n",
       "    </tr>\n",
       "    <tr>\n",
       "      <th>4</th>\n",
       "      <td>1990-05-01</td>\n",
       "      <td>1990</td>\n",
       "      <td>5</td>\n",
       "      <td>88.6775</td>\n",
       "      <td>69.2708</td>\n",
       "      <td>155.2708</td>\n",
       "    </tr>\n",
       "  </tbody>\n",
       "</table>\n",
       "</div>"
      ],
      "text/plain": [
       "         date  year  month  production1  production2  production3\n",
       "0  1990-01-01  1990      1      99.9894      75.7999     142.7999\n",
       "1  1990-02-01  1990      2     101.2116      73.7547     117.7547\n",
       "2  1990-03-01  1990      3      94.8477      93.1582     108.1582\n",
       "3  1990-04-01  1990      4      88.4239     102.2382     155.2382\n",
       "4  1990-05-01  1990      5      88.6775      69.2708     155.2708"
      ]
     },
     "execution_count": 4,
     "metadata": {},
     "output_type": "execute_result"
    }
   ],
   "source": [
    "data.head(5)"
   ]
  },
  {
   "cell_type": "code",
   "execution_count": 5,
   "metadata": {},
   "outputs": [
    {
     "data": {
      "text/plain": [
       "dtype('int64')"
      ]
     },
     "execution_count": 5,
     "metadata": {},
     "output_type": "execute_result"
    }
   ],
   "source": [
    "data.index.dtype"
   ]
  },
  {
   "cell_type": "code",
   "execution_count": 6,
   "metadata": {},
   "outputs": [
    {
     "data": {
      "text/html": [
       "<div>\n",
       "<style scoped>\n",
       "    .dataframe tbody tr th:only-of-type {\n",
       "        vertical-align: middle;\n",
       "    }\n",
       "\n",
       "    .dataframe tbody tr th {\n",
       "        vertical-align: top;\n",
       "    }\n",
       "\n",
       "    .dataframe thead th {\n",
       "        text-align: right;\n",
       "    }\n",
       "</style>\n",
       "<table border=\"1\" class=\"dataframe\">\n",
       "  <thead>\n",
       "    <tr style=\"text-align: right;\">\n",
       "      <th></th>\n",
       "      <th>production1</th>\n",
       "      <th>production2</th>\n",
       "      <th>production3</th>\n",
       "    </tr>\n",
       "    <tr>\n",
       "      <th>year</th>\n",
       "      <th></th>\n",
       "      <th></th>\n",
       "      <th></th>\n",
       "    </tr>\n",
       "  </thead>\n",
       "  <tbody>\n",
       "    <tr>\n",
       "      <th>1990</th>\n",
       "      <td>1265.9570</td>\n",
       "      <td>1283.7596</td>\n",
       "      <td>1591.7596</td>\n",
       "    </tr>\n",
       "    <tr>\n",
       "      <th>1991</th>\n",
       "      <td>1316.8270</td>\n",
       "      <td>1499.4401</td>\n",
       "      <td>1309.4401</td>\n",
       "    </tr>\n",
       "    <tr>\n",
       "      <th>1992</th>\n",
       "      <td>1231.8878</td>\n",
       "      <td>1267.2503</td>\n",
       "      <td>1399.2503</td>\n",
       "    </tr>\n",
       "    <tr>\n",
       "      <th>1993</th>\n",
       "      <td>1255.2003</td>\n",
       "      <td>1364.3083</td>\n",
       "      <td>1360.3083</td>\n",
       "    </tr>\n",
       "    <tr>\n",
       "      <th>1994</th>\n",
       "      <td>1255.1259</td>\n",
       "      <td>1425.5262</td>\n",
       "      <td>1431.5262</td>\n",
       "    </tr>\n",
       "  </tbody>\n",
       "</table>\n",
       "</div>"
      ],
      "text/plain": [
       "      production1  production2  production3\n",
       "year                                       \n",
       "1990    1265.9570    1283.7596    1591.7596\n",
       "1991    1316.8270    1499.4401    1309.4401\n",
       "1992    1231.8878    1267.2503    1399.2503\n",
       "1993    1255.2003    1364.3083    1360.3083\n",
       "1994    1255.1259    1425.5262    1431.5262"
      ]
     },
     "execution_count": 6,
     "metadata": {},
     "output_type": "execute_result"
    }
   ],
   "source": [
    "data1 = data.groupby('year').agg({'production1' : lambda x: x.sum(),\n",
    "                                  'production2' : lambda x: x.sum(),\n",
    "                                  'production3' : lambda x: x.sum()})\n",
    "#data.columns =['production1','production2']\n",
    "data1.head()"
   ]
  },
  {
   "cell_type": "code",
   "execution_count": 7,
   "metadata": {},
   "outputs": [],
   "source": [
    "data.to_records().dtype\n",
    "data.index = data.index.astype('i8')"
   ]
  },
  {
   "cell_type": "code",
   "execution_count": 8,
   "metadata": {},
   "outputs": [
    {
     "data": {
      "text/html": [
       "<div>\n",
       "<style scoped>\n",
       "    .dataframe tbody tr th:only-of-type {\n",
       "        vertical-align: middle;\n",
       "    }\n",
       "\n",
       "    .dataframe tbody tr th {\n",
       "        vertical-align: top;\n",
       "    }\n",
       "\n",
       "    .dataframe thead th {\n",
       "        text-align: right;\n",
       "    }\n",
       "</style>\n",
       "<table border=\"1\" class=\"dataframe\">\n",
       "  <thead>\n",
       "    <tr style=\"text-align: right;\">\n",
       "      <th></th>\n",
       "      <th>production1</th>\n",
       "      <th>production2</th>\n",
       "      <th>production3</th>\n",
       "    </tr>\n",
       "    <tr>\n",
       "      <th>year</th>\n",
       "      <th></th>\n",
       "      <th></th>\n",
       "      <th></th>\n",
       "    </tr>\n",
       "  </thead>\n",
       "  <tbody>\n",
       "    <tr>\n",
       "      <th>1990</th>\n",
       "      <td>1265.9570</td>\n",
       "      <td>1283.7596</td>\n",
       "      <td>1591.7596</td>\n",
       "    </tr>\n",
       "    <tr>\n",
       "      <th>1991</th>\n",
       "      <td>1316.8270</td>\n",
       "      <td>1499.4401</td>\n",
       "      <td>1309.4401</td>\n",
       "    </tr>\n",
       "    <tr>\n",
       "      <th>1992</th>\n",
       "      <td>1231.8878</td>\n",
       "      <td>1267.2503</td>\n",
       "      <td>1399.2503</td>\n",
       "    </tr>\n",
       "    <tr>\n",
       "      <th>1993</th>\n",
       "      <td>1255.2003</td>\n",
       "      <td>1364.3083</td>\n",
       "      <td>1360.3083</td>\n",
       "    </tr>\n",
       "    <tr>\n",
       "      <th>1994</th>\n",
       "      <td>1255.1259</td>\n",
       "      <td>1425.5262</td>\n",
       "      <td>1431.5262</td>\n",
       "    </tr>\n",
       "  </tbody>\n",
       "</table>\n",
       "</div>"
      ],
      "text/plain": [
       "      production1  production2  production3\n",
       "year                                       \n",
       "1990    1265.9570    1283.7596    1591.7596\n",
       "1991    1316.8270    1499.4401    1309.4401\n",
       "1992    1231.8878    1267.2503    1399.2503\n",
       "1993    1255.2003    1364.3083    1360.3083\n",
       "1994    1255.1259    1425.5262    1431.5262"
      ]
     },
     "execution_count": 8,
     "metadata": {},
     "output_type": "execute_result"
    }
   ],
   "source": [
    "cols = ['production1','production2','production3'] # Columnas que queremos cargar\n",
    "\n",
    "data1[cols].head()\n"
   ]
  },
  {
   "cell_type": "code",
   "execution_count": 9,
   "metadata": {},
   "outputs": [
    {
     "data": {
      "text/plain": [
       "array([[1265.957 , 1283.7596, 1591.7596],\n",
       "       [1316.827 , 1499.4401, 1309.4401],\n",
       "       [1231.8878, 1267.2503, 1399.2503],\n",
       "       [1255.2003, 1364.3083, 1360.3083],\n",
       "       [1255.1259, 1425.5262, 1431.5262],\n",
       "       [1270.1582, 1327.294 , 1435.294 ],\n",
       "       [1322.318 , 1258.5922, 1328.5922],\n",
       "       [1347.9634, 1289.318 , 1313.318 ],\n",
       "       [1425.1335, 1404.9037, 1432.9037],\n",
       "       [1396.5543, 1383.479 , 1345.479 ],\n",
       "       [1462.279 , 1378.3539, 1286.3539],\n",
       "       [1446.6292, 1293.7826, 1326.7826],\n",
       "       [1385.3818, 1313.5118, 1303.5118],\n",
       "       [1379.4629, 1283.2887, 1281.2887],\n",
       "       [1394.5927, 1354.3612, 1247.3612],\n",
       "       [1439.4358, 1205.456 , 1451.456 ],\n",
       "       [1380.4629, 1368.0427, 1410.0427],\n",
       "       [1300.7343, 1379.8707, 1295.8707],\n",
       "       [1186.188 , 1173.3889, 1374.3889],\n",
       "       [1133.7732, 1306.6877, 1272.6877],\n",
       "       [1242.1636, 1293.4226, 1346.4226],\n",
       "       [1207.1503, 1275.8711, 1256.8711],\n",
       "       [1199.9999, 1390.9851, 1342.9851],\n",
       "       [1251.1338, 1331.8517, 1426.8517],\n",
       "       [1250.7895, 1290.2894, 1458.2894],\n",
       "       [1330.1905, 1354.0993, 1295.0993],\n",
       "       [1301.9953, 1282.1072, 1254.1072],\n",
       "       [ 858.3565,  813.1483,  782.1483]])"
      ]
     },
     "execution_count": 9,
     "metadata": {},
     "output_type": "execute_result"
    }
   ],
   "source": [
    "#Datos desde 01-1990 hasta 08-2017\n",
    "data2 = data1[cols].values\n",
    "data2"
   ]
  },
  {
   "cell_type": "code",
   "execution_count": 10,
   "metadata": {},
   "outputs": [
    {
     "data": {
      "image/png": "[encoded data removed]",
      "text/plain": [
       "<Figure size 432x288 with 1 Axes>"
      ]
     },
     "metadata": {
      "needs_background": "light"
     },
     "output_type": "display_data"
    },
    {
     "name": "stdout",
     "output_type": "stream",
     "text": [
      "<pyspc: (-9223372036843500982)>\n"
     ]
    }
   ],
   "source": [
    "a = spc(pistonrings) + ewma()\n",
    "print(a)"
   ]
  },
  {
   "cell_type": "code",
   "execution_count": 11,
   "metadata": {},
   "outputs": [
    {
     "data": {
      "image/png": "[encoded data removed]",
      "text/plain": [
       "<Figure size 432x288 with 2 Axes>"
      ]
     },
     "metadata": {
      "needs_background": "light"
     },
     "output_type": "display_data"
    },
    {
     "name": "stdout",
     "output_type": "stream",
     "text": [
      "<pyspc: (11287777)>\n"
     ]
    }
   ],
   "source": [
    "#data= data.values\n",
    "a = spc(data2) + xbar_rbar() +rbar() + rules()\n",
    "print(a)"
   ]
  },
  {
   "cell_type": "code",
   "execution_count": 12,
   "metadata": {},
   "outputs": [
    {
     "data": {
      "image/png": "[encoded data removed]",
      "text/plain": [
       "<Figure size 432x288 with 1 Axes>"
      ]
     },
     "metadata": {
      "needs_background": "light"
     },
     "output_type": "display_data"
    }
   ],
   "source": [
    "# Diagrama de dispersión produccion por año\n",
    "\n",
    "var = 'production1'\n",
    "data = pd.concat([data['year'], data[var]], axis=1)\n",
    "data.plot.scatter(x=var, y='year', alpha = 0.5);"
   ]
  },
  {
   "cell_type": "code",
   "execution_count": 13,
   "metadata": {},
   "outputs": [
    {
     "data": {
      "image/png": "[encoded data removed]",
      "text/plain": [
       "<Figure size 1080x360 with 1 Axes>"
      ]
     },
     "metadata": {
      "needs_background": "light"
     },
     "output_type": "display_data"
    }
   ],
   "source": [
    "d=data.groupby('year').mean()[\"production1\"].plot(kind='bar', figsize=(15, 5), fontsize=15)\n",
    "d.set_xlabel(\"YEAR\", fontsize=12)\n",
    "d.set_ylabel(\"PRODUCION\", fontsize=12)\n",
    "plt.show()"
   ]
  }
 ],
 "metadata": {
  "colab": {
   "collapsed_sections": [],
   "name": "3 ProyectoFinalVisualizacion.ipynb",
   "provenance": []
  },
  "kernelspec": {
   "display_name": "Python 3",
   "language": "python",
   "name": "python3"
  },
  "language_info": {
   "codemirror_mode": {
    "name": "ipython",
    "version": 3
   },
   "file_extension": ".py",
   "mimetype": "text/x-python",
   "name": "python",
   "nbconvert_exporter": "python",
   "pygments_lexer": "ipython3",
   "version": "3.7.3"
  }
 },
 "nbformat": 4,
 "nbformat_minor": 1
}
