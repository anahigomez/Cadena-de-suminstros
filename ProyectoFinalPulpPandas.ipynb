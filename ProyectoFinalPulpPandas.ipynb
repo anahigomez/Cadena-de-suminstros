{
 "cells": [
  {
   "cell_type": "code",
   "execution_count": 22,
   "metadata": {
    "colab": {},
    "colab_type": "code",
    "id": "ddxLFi2NGhy_",
    "scrolled": true
   },
   "outputs": [],
   "source": [
    "import pandas as pd\n",
    "import numpy as np\n",
    "import pulp\n",
    "from pulp import *"
   ]
  },
  {
   "cell_type": "code",
   "execution_count": 24,
   "metadata": {},
   "outputs": [
    {
     "name": "stdout",
     "output_type": "stream",
     "text": [
      "Prod.A:[25000 33000 22500     0   300]\n",
      "Prod.B:[35000 17000     0 15000   250]\n"
     ]
    }
   ],
   "source": [
    "# Produccion de productos A y B\n",
    "\n",
    "prod_A= np.array([25000,33000,22500,0,300])\n",
    "prod_B= np.array([35000,17000,0,15000,250])\n",
    "\n",
    "print('Prod.A:' +str(prod_A)) \n",
    "print('Prod.B:' +str(prod_B)) "
   ]
  },
  {
   "cell_type": "code",
   "execution_count": 21,
   "metadata": {},
   "outputs": [
    {
     "name": "stdout",
     "output_type": "stream",
     "text": [
      "Resultado Optimo:\n",
      "x = 20224.719\n",
      "y = 6685.3933\n",
      "Total Beneficio Neto:\n",
      "7738764.025\n"
     ]
    }
   ],
   "source": [
    "x = pulp.LpVariable(\"x\", lowBound=0)\n",
    "y = pulp.LpVariable(\"y\", lowBound=0)\n",
    "problem = pulp.LpProblem(\"Un simple problema\", pulp.LpMaximize)\n",
    "problem += 300*x + 250*y, \"Funcion Objectivo\"\n",
    "problem += 1.4*x + y <= 35000, \"1ra restricción\"\n",
    "problem += 0.51*x + y <= 17000, \"2da restricción\"\n",
    "problem += x <= 22500, \"3ra restricción\"\n",
    "problem += y <= 15000, \"4th restricción\"\n",
    "problem.solve()\n",
    "print (\"Resultado Optimo:\")\n",
    "for variable in problem.variables():\n",
    "    print (variable.name, \"=\", variable.varValue)\n",
    "print (\"Total Beneficio Neto:\")\n",
    "print (value(problem.objective))"
   ]
  }
 ],
 "metadata": {
  "colab": {
   "collapsed_sections": [],
   "name": "3 ProyectoFinalVisualizacion.ipynb",
   "provenance": []
  },
  "kernelspec": {
   "display_name": "Python 3",
   "language": "python",
   "name": "python3"
  },
  "language_info": {
   "codemirror_mode": {
    "name": "ipython",
    "version": 3
   },
   "file_extension": ".py",
   "mimetype": "text/x-python",
   "name": "python",
   "nbconvert_exporter": "python",
   "pygments_lexer": "ipython3",
   "version": "3.7.3"
  }
 },
 "nbformat": 4,
 "nbformat_minor": 1
}
